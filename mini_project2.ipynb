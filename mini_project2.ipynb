{
  "cells": [
    {
      "cell_type": "code",
      "execution_count": null,
      "metadata": {
        "id": "nWzE03WyziJD"
      },
      "outputs": [],
      "source": [
        "import numpy as np\n",
        "import pandas as pd\n",
        "import matplotlib.pyplot as plt\n",
        "import seaborn as sns\n",
        "from sklearn.cluster import KMeans"
      ]
    },
    {
      "cell_type": "code",
      "execution_count": null,
      "metadata": {
        "colab": {
          "base_uri": "https://localhost:8080/",
          "height": 302
        },
        "id": "Vpgk40_jx3uJ",
        "outputId": "5e47480c-a64b-47c1-95e8-4755e2f303c1"
      },
      "outputs": [
        {
          "name": "stdout",
          "output_type": "stream",
          "text": [
            "Mounted at /content/drive\n"
          ]
        },
        {
          "data": {
            "text/html": [
              "\n",
              "  <div id=\"df-2b332a9e-1c51-4d22-aba5-817d747797a6\">\n",
              "    <div class=\"colab-df-container\">\n",
              "      <div>\n",
              "<style scoped>\n",
              "    .dataframe tbody tr th:only-of-type {\n",
              "        vertical-align: middle;\n",
              "    }\n",
              "\n",
              "    .dataframe tbody tr th {\n",
              "        vertical-align: top;\n",
              "    }\n",
              "\n",
              "    .dataframe thead th {\n",
              "        text-align: right;\n",
              "    }\n",
              "</style>\n",
              "<table border=\"1\" class=\"dataframe\">\n",
              "  <thead>\n",
              "    <tr style=\"text-align: right;\">\n",
              "      <th></th>\n",
              "      <th>Nom et prénom</th>\n",
              "      <th>Note de communication</th>\n",
              "      <th>Note des mathématiques</th>\n",
              "      <th>Note d'informatique</th>\n",
              "      <th>Note du prétest</th>\n",
              "      <th>test formatif 1</th>\n",
              "      <th>test formatif 2</th>\n",
              "      <th>test formatif 3</th>\n",
              "      <th>test sommatif</th>\n",
              "    </tr>\n",
              "  </thead>\n",
              "  <tbody>\n",
              "    <tr>\n",
              "      <th>0</th>\n",
              "      <td>Zakka Yahya</td>\n",
              "      <td>17.5</td>\n",
              "      <td>16.5</td>\n",
              "      <td>20.0</td>\n",
              "      <td>15.0</td>\n",
              "      <td>13.0</td>\n",
              "      <td>12.0</td>\n",
              "      <td>14.0</td>\n",
              "      <td>13.5</td>\n",
              "    </tr>\n",
              "    <tr>\n",
              "      <th>1</th>\n",
              "      <td>Chahir Mohamed Ali</td>\n",
              "      <td>19.0</td>\n",
              "      <td>13.0</td>\n",
              "      <td>18.0</td>\n",
              "      <td>13.0</td>\n",
              "      <td>14.0</td>\n",
              "      <td>13.5</td>\n",
              "      <td>11.0</td>\n",
              "      <td>14.0</td>\n",
              "    </tr>\n",
              "    <tr>\n",
              "      <th>2</th>\n",
              "      <td>El Baski Basma</td>\n",
              "      <td>14.0</td>\n",
              "      <td>10.0</td>\n",
              "      <td>15.0</td>\n",
              "      <td>11.0</td>\n",
              "      <td>10.0</td>\n",
              "      <td>11.0</td>\n",
              "      <td>12.5</td>\n",
              "      <td>11.5</td>\n",
              "    </tr>\n",
              "    <tr>\n",
              "      <th>3</th>\n",
              "      <td>Baba Lamyae</td>\n",
              "      <td>12.0</td>\n",
              "      <td>11.0</td>\n",
              "      <td>10.0</td>\n",
              "      <td>10.0</td>\n",
              "      <td>9.5</td>\n",
              "      <td>12.0</td>\n",
              "      <td>10.0</td>\n",
              "      <td>10.5</td>\n",
              "    </tr>\n",
              "    <tr>\n",
              "      <th>4</th>\n",
              "      <td>Andaloussi Malak</td>\n",
              "      <td>8.0</td>\n",
              "      <td>9.5</td>\n",
              "      <td>10.0</td>\n",
              "      <td>9.0</td>\n",
              "      <td>8.0</td>\n",
              "      <td>10.5</td>\n",
              "      <td>10.0</td>\n",
              "      <td>10.5</td>\n",
              "    </tr>\n",
              "  </tbody>\n",
              "</table>\n",
              "</div>\n",
              "      <button class=\"colab-df-convert\" onclick=\"convertToInteractive('df-2b332a9e-1c51-4d22-aba5-817d747797a6')\"\n",
              "              title=\"Convert this dataframe to an interactive table.\"\n",
              "              style=\"display:none;\">\n",
              "        \n",
              "  <svg xmlns=\"http://www.w3.org/2000/svg\" height=\"24px\"viewBox=\"0 0 24 24\"\n",
              "       width=\"24px\">\n",
              "    <path d=\"M0 0h24v24H0V0z\" fill=\"none\"/>\n",
              "    <path d=\"M18.56 5.44l.94 2.06.94-2.06 2.06-.94-2.06-.94-.94-2.06-.94 2.06-2.06.94zm-11 1L8.5 8.5l.94-2.06 2.06-.94-2.06-.94L8.5 2.5l-.94 2.06-2.06.94zm10 10l.94 2.06.94-2.06 2.06-.94-2.06-.94-.94-2.06-.94 2.06-2.06.94z\"/><path d=\"M17.41 7.96l-1.37-1.37c-.4-.4-.92-.59-1.43-.59-.52 0-1.04.2-1.43.59L10.3 9.45l-7.72 7.72c-.78.78-.78 2.05 0 2.83L4 21.41c.39.39.9.59 1.41.59.51 0 1.02-.2 1.41-.59l7.78-7.78 2.81-2.81c.8-.78.8-2.07 0-2.86zM5.41 20L4 18.59l7.72-7.72 1.47 1.35L5.41 20z\"/>\n",
              "  </svg>\n",
              "      </button>\n",
              "      \n",
              "  <style>\n",
              "    .colab-df-container {\n",
              "      display:flex;\n",
              "      flex-wrap:wrap;\n",
              "      gap: 12px;\n",
              "    }\n",
              "\n",
              "    .colab-df-convert {\n",
              "      background-color: #E8F0FE;\n",
              "      border: none;\n",
              "      border-radius: 50%;\n",
              "      cursor: pointer;\n",
              "      display: none;\n",
              "      fill: #1967D2;\n",
              "      height: 32px;\n",
              "      padding: 0 0 0 0;\n",
              "      width: 32px;\n",
              "    }\n",
              "\n",
              "    .colab-df-convert:hover {\n",
              "      background-color: #E2EBFA;\n",
              "      box-shadow: 0px 1px 2px rgba(60, 64, 67, 0.3), 0px 1px 3px 1px rgba(60, 64, 67, 0.15);\n",
              "      fill: #174EA6;\n",
              "    }\n",
              "\n",
              "    [theme=dark] .colab-df-convert {\n",
              "      background-color: #3B4455;\n",
              "      fill: #D2E3FC;\n",
              "    }\n",
              "\n",
              "    [theme=dark] .colab-df-convert:hover {\n",
              "      background-color: #434B5C;\n",
              "      box-shadow: 0px 1px 3px 1px rgba(0, 0, 0, 0.15);\n",
              "      filter: drop-shadow(0px 1px 2px rgba(0, 0, 0, 0.3));\n",
              "      fill: #FFFFFF;\n",
              "    }\n",
              "  </style>\n",
              "\n",
              "      <script>\n",
              "        const buttonEl =\n",
              "          document.querySelector('#df-2b332a9e-1c51-4d22-aba5-817d747797a6 button.colab-df-convert');\n",
              "        buttonEl.style.display =\n",
              "          google.colab.kernel.accessAllowed ? 'block' : 'none';\n",
              "\n",
              "        async function convertToInteractive(key) {\n",
              "          const element = document.querySelector('#df-2b332a9e-1c51-4d22-aba5-817d747797a6');\n",
              "          const dataTable =\n",
              "            await google.colab.kernel.invokeFunction('convertToInteractive',\n",
              "                                                     [key], {});\n",
              "          if (!dataTable) return;\n",
              "\n",
              "          const docLinkHtml = 'Like what you see? Visit the ' +\n",
              "            '<a target=\"_blank\" href=https://colab.research.google.com/notebooks/data_table.ipynb>data table notebook</a>'\n",
              "            + ' to learn more about interactive tables.';\n",
              "          element.innerHTML = '';\n",
              "          dataTable['output_type'] = 'display_data';\n",
              "          await google.colab.output.renderOutput(dataTable, element);\n",
              "          const docLink = document.createElement('div');\n",
              "          docLink.innerHTML = docLinkHtml;\n",
              "          element.appendChild(docLink);\n",
              "        }\n",
              "      </script>\n",
              "    </div>\n",
              "  </div>\n",
              "  "
            ],
            "text/plain": [
              "        Nom et prénom  Note de communication  Note des mathématiques  \\\n",
              "0         Zakka Yahya                   17.5                    16.5   \n",
              "1  Chahir Mohamed Ali                   19.0                    13.0   \n",
              "2      El Baski Basma                   14.0                    10.0   \n",
              "3         Baba Lamyae                   12.0                    11.0   \n",
              "4    Andaloussi Malak                    8.0                     9.5   \n",
              "\n",
              "   Note d'informatique  Note du prétest  test formatif 1  test formatif 2  \\\n",
              "0                 20.0             15.0             13.0             12.0   \n",
              "1                 18.0             13.0             14.0             13.5   \n",
              "2                 15.0             11.0             10.0             11.0   \n",
              "3                 10.0             10.0              9.5             12.0   \n",
              "4                 10.0              9.0              8.0             10.5   \n",
              "\n",
              "   test formatif 3  test sommatif  \n",
              "0             14.0           13.5  \n",
              "1             11.0           14.0  \n",
              "2             12.5           11.5  \n",
              "3             10.0           10.5  \n",
              "4             10.0           10.5  "
            ]
          },
          "execution_count": 89,
          "metadata": {},
          "output_type": "execute_result"
        }
      ],
      "source": [
        "from google.colab import drive\n",
        "drive.mount('/content/drive', force_remount=True) \n",
        "df = pd.read_excel('/content/drive/My Drive/Colab Notebooks/mooc.xlsx')\n",
        "\n",
        "df.head()"
      ]
    },
    {
      "cell_type": "markdown",
      "metadata": {
        "id": "kFzVYdCb1F6j"
      },
      "source": [
        "## **Corrélation entre toutes les features**\n",
        "\n",
        "On va utiliser maintenant des méthodes basées sur le coefficient de corrélation qui va nous permettre d'illustrer la relation entre toutes les variables de l'ensemble de données."
      ]
    },
    {
      "cell_type": "code",
      "execution_count": null,
      "metadata": {
        "colab": {
          "base_uri": "https://localhost:8080/",
          "height": 712
        },
        "id": "FFF6iUDF1EoZ",
        "outputId": "a636fc45-8a07-40d8-c8ae-5a4f62660f6e"
      },
      "outputs": [
        {
          "data": {
            "image/png": "[encoded data removed]",
            "text/plain": [
              "<Figure size 864x720 with 2 Axes>"
            ]
          },
          "metadata": {
            "needs_background": "light"
          },
          "output_type": "display_data"
        }
      ],
      "source": [
        "# Régler la taille de la figure sur 12 par 10.\n",
        "plt.figure(figsize=(12,10))\n",
        "\n",
        "# seaborn a une méthode simple pour présenter heatmap\n",
        "p = sns.heatmap(df.corr(), annot=True,cmap ='RdYlGn')"
      ]
    },
    {
      "cell_type": "markdown",
      "metadata": {
        "id": "NExigUpFccpD"
      },
      "source": [
        "Dans l'étape suivante, après avoir obtenu la matrice de corrélation, nous allons utiliser la fonction describe() qui génère des statistiques descriptives en résumant le nombre de valeurs distinctes, la dispersion, la moyenne, le minimum et le maximum et la forme de la distribution d'un ensemble de données. "
      ]
    },
    {
      "cell_type": "code",
      "execution_count": null,
      "metadata": {
        "colab": {
          "base_uri": "https://localhost:8080/",
          "height": 344
        },
        "id": "LP5XyJkjclhs",
        "outputId": "a870d23f-d0c1-4588-b69f-d49b4481b02e"
      },
      "outputs": [
        {
          "data": {
            "text/html": [
              "\n",
              "  <div id=\"df-4b5b3a37-fd9a-4b2c-893d-2dd035697f5c\">\n",
              "    <div class=\"colab-df-container\">\n",
              "      <div>\n",
              "<style scoped>\n",
              "    .dataframe tbody tr th:only-of-type {\n",
              "        vertical-align: middle;\n",
              "    }\n",
              "\n",
              "    .dataframe tbody tr th {\n",
              "        vertical-align: top;\n",
              "    }\n",
              "\n",
              "    .dataframe thead th {\n",
              "        text-align: right;\n",
              "    }\n",
              "</style>\n",
              "<table border=\"1\" class=\"dataframe\">\n",
              "  <thead>\n",
              "    <tr style=\"text-align: right;\">\n",
              "      <th></th>\n",
              "      <th>Note de communication</th>\n",
              "      <th>Note des mathématiques</th>\n",
              "      <th>Note d'informatique</th>\n",
              "      <th>Note du prétest</th>\n",
              "      <th>test formatif 1</th>\n",
              "      <th>test formatif 2</th>\n",
              "      <th>test formatif 3</th>\n",
              "      <th>test sommatif</th>\n",
              "    </tr>\n",
              "  </thead>\n",
              "  <tbody>\n",
              "    <tr>\n",
              "      <th>count</th>\n",
              "      <td>109.000000</td>\n",
              "      <td>109.000000</td>\n",
              "      <td>109.000000</td>\n",
              "      <td>109.000000</td>\n",
              "      <td>107.000000</td>\n",
              "      <td>109.000000</td>\n",
              "      <td>109.000000</td>\n",
              "      <td>109.000000</td>\n",
              "    </tr>\n",
              "    <tr>\n",
              "      <th>mean</th>\n",
              "      <td>12.798165</td>\n",
              "      <td>10.944954</td>\n",
              "      <td>11.449541</td>\n",
              "      <td>10.903670</td>\n",
              "      <td>11.191589</td>\n",
              "      <td>12.041284</td>\n",
              "      <td>11.766055</td>\n",
              "      <td>12.009174</td>\n",
              "    </tr>\n",
              "    <tr>\n",
              "      <th>std</th>\n",
              "      <td>4.473750</td>\n",
              "      <td>3.985122</td>\n",
              "      <td>3.502608</td>\n",
              "      <td>3.533227</td>\n",
              "      <td>3.064284</td>\n",
              "      <td>3.209598</td>\n",
              "      <td>3.289693</td>\n",
              "      <td>3.296309</td>\n",
              "    </tr>\n",
              "    <tr>\n",
              "      <th>min</th>\n",
              "      <td>2.000000</td>\n",
              "      <td>2.000000</td>\n",
              "      <td>3.000000</td>\n",
              "      <td>2.000000</td>\n",
              "      <td>2.000000</td>\n",
              "      <td>4.500000</td>\n",
              "      <td>4.000000</td>\n",
              "      <td>3.500000</td>\n",
              "    </tr>\n",
              "    <tr>\n",
              "      <th>25%</th>\n",
              "      <td>10.000000</td>\n",
              "      <td>9.000000</td>\n",
              "      <td>9.500000</td>\n",
              "      <td>8.500000</td>\n",
              "      <td>9.250000</td>\n",
              "      <td>10.000000</td>\n",
              "      <td>10.000000</td>\n",
              "      <td>10.000000</td>\n",
              "    </tr>\n",
              "    <tr>\n",
              "      <th>50%</th>\n",
              "      <td>14.000000</td>\n",
              "      <td>10.000000</td>\n",
              "      <td>12.000000</td>\n",
              "      <td>11.500000</td>\n",
              "      <td>12.000000</td>\n",
              "      <td>12.500000</td>\n",
              "      <td>12.500000</td>\n",
              "      <td>13.000000</td>\n",
              "    </tr>\n",
              "    <tr>\n",
              "      <th>75%</th>\n",
              "      <td>16.000000</td>\n",
              "      <td>14.000000</td>\n",
              "      <td>14.000000</td>\n",
              "      <td>13.000000</td>\n",
              "      <td>13.500000</td>\n",
              "      <td>14.000000</td>\n",
              "      <td>14.000000</td>\n",
              "      <td>14.000000</td>\n",
              "    </tr>\n",
              "    <tr>\n",
              "      <th>max</th>\n",
              "      <td>20.000000</td>\n",
              "      <td>19.000000</td>\n",
              "      <td>20.000000</td>\n",
              "      <td>17.000000</td>\n",
              "      <td>16.000000</td>\n",
              "      <td>17.000000</td>\n",
              "      <td>17.000000</td>\n",
              "      <td>17.000000</td>\n",
              "    </tr>\n",
              "  </tbody>\n",
              "</table>\n",
              "</div>\n",
              "      <button class=\"colab-df-convert\" onclick=\"convertToInteractive('df-4b5b3a37-fd9a-4b2c-893d-2dd035697f5c')\"\n",
              "              title=\"Convert this dataframe to an interactive table.\"\n",
              "              style=\"display:none;\">\n",
              "        \n",
              "  <svg xmlns=\"http://www.w3.org/2000/svg\" height=\"24px\"viewBox=\"0 0 24 24\"\n",
              "       width=\"24px\">\n",
              "    <path d=\"M0 0h24v24H0V0z\" fill=\"none\"/>\n",
              "    <path d=\"M18.56 5.44l.94 2.06.94-2.06 2.06-.94-2.06-.94-.94-2.06-.94 2.06-2.06.94zm-11 1L8.5 8.5l.94-2.06 2.06-.94-2.06-.94L8.5 2.5l-.94 2.06-2.06.94zm10 10l.94 2.06.94-2.06 2.06-.94-2.06-.94-.94-2.06-.94 2.06-2.06.94z\"/><path d=\"M17.41 7.96l-1.37-1.37c-.4-.4-.92-.59-1.43-.59-.52 0-1.04.2-1.43.59L10.3 9.45l-7.72 7.72c-.78.78-.78 2.05 0 2.83L4 21.41c.39.39.9.59 1.41.59.51 0 1.02-.2 1.41-.59l7.78-7.78 2.81-2.81c.8-.78.8-2.07 0-2.86zM5.41 20L4 18.59l7.72-7.72 1.47 1.35L5.41 20z\"/>\n",
              "  </svg>\n",
              "      </button>\n",
              "      \n",
              "  <style>\n",
              "    .colab-df-container {\n",
              "      display:flex;\n",
              "      flex-wrap:wrap;\n",
              "      gap: 12px;\n",
              "    }\n",
              "\n",
              "    .colab-df-convert {\n",
              "      background-color: #E8F0FE;\n",
              "      border: none;\n",
              "      border-radius: 50%;\n",
              "      cursor: pointer;\n",
              "      display: none;\n",
              "      fill: #1967D2;\n",
              "      height: 32px;\n",
              "      padding: 0 0 0 0;\n",
              "      width: 32px;\n",
              "    }\n",
              "\n",
              "    .colab-df-convert:hover {\n",
              "      background-color: #E2EBFA;\n",
              "      box-shadow: 0px 1px 2px rgba(60, 64, 67, 0.3), 0px 1px 3px 1px rgba(60, 64, 67, 0.15);\n",
              "      fill: #174EA6;\n",
              "    }\n",
              "\n",
              "    [theme=dark] .colab-df-convert {\n",
              "      background-color: #3B4455;\n",
              "      fill: #D2E3FC;\n",
              "    }\n",
              "\n",
              "    [theme=dark] .colab-df-convert:hover {\n",
              "      background-color: #434B5C;\n",
              "      box-shadow: 0px 1px 3px 1px rgba(0, 0, 0, 0.15);\n",
              "      filter: drop-shadow(0px 1px 2px rgba(0, 0, 0, 0.3));\n",
              "      fill: #FFFFFF;\n",
              "    }\n",
              "  </style>\n",
              "\n",
              "      <script>\n",
              "        const buttonEl =\n",
              "          document.querySelector('#df-4b5b3a37-fd9a-4b2c-893d-2dd035697f5c button.colab-df-convert');\n",
              "        buttonEl.style.display =\n",
              "          google.colab.kernel.accessAllowed ? 'block' : 'none';\n",
              "\n",
              "        async function convertToInteractive(key) {\n",
              "          const element = document.querySelector('#df-4b5b3a37-fd9a-4b2c-893d-2dd035697f5c');\n",
              "          const dataTable =\n",
              "            await google.colab.kernel.invokeFunction('convertToInteractive',\n",
              "                                                     [key], {});\n",
              "          if (!dataTable) return;\n",
              "\n",
              "          const docLinkHtml = 'Like what you see? Visit the ' +\n",
              "            '<a target=\"_blank\" href=https://colab.research.google.com/notebooks/data_table.ipynb>data table notebook</a>'\n",
              "            + ' to learn more about interactive tables.';\n",
              "          element.innerHTML = '';\n",
              "          dataTable['output_type'] = 'display_data';\n",
              "          await google.colab.output.renderOutput(dataTable, element);\n",
              "          const docLink = document.createElement('div');\n",
              "          docLink.innerHTML = docLinkHtml;\n",
              "          element.appendChild(docLink);\n",
              "        }\n",
              "      </script>\n",
              "    </div>\n",
              "  </div>\n",
              "  "
            ],
            "text/plain": [
              "       Note de communication  Note des mathématiques  Note d'informatique  \\\n",
              "count             109.000000              109.000000           109.000000   \n",
              "mean               12.798165               10.944954            11.449541   \n",
              "std                 4.473750                3.985122             3.502608   \n",
              "min                 2.000000                2.000000             3.000000   \n",
              "25%                10.000000                9.000000             9.500000   \n",
              "50%                14.000000               10.000000            12.000000   \n",
              "75%                16.000000               14.000000            14.000000   \n",
              "max                20.000000               19.000000            20.000000   \n",
              "\n",
              "       Note du prétest  test formatif 1  test formatif 2  test formatif 3  \\\n",
              "count       109.000000       107.000000       109.000000       109.000000   \n",
              "mean         10.903670        11.191589        12.041284        11.766055   \n",
              "std           3.533227         3.064284         3.209598         3.289693   \n",
              "min           2.000000         2.000000         4.500000         4.000000   \n",
              "25%           8.500000         9.250000        10.000000        10.000000   \n",
              "50%          11.500000        12.000000        12.500000        12.500000   \n",
              "75%          13.000000        13.500000        14.000000        14.000000   \n",
              "max          17.000000        16.000000        17.000000        17.000000   \n",
              "\n",
              "       test sommatif  \n",
              "count     109.000000  \n",
              "mean       12.009174  \n",
              "std         3.296309  \n",
              "min         3.500000  \n",
              "25%        10.000000  \n",
              "50%        13.000000  \n",
              "75%        14.000000  \n",
              "max        17.000000  "
            ]
          },
          "execution_count": 91,
          "metadata": {},
          "output_type": "execute_result"
        }
      ],
      "source": [
        "# Afficher des informations à propos de nos données\n",
        "df.describe()"
      ]
    },
    {
      "cell_type": "markdown",
      "metadata": {
        "id": "XetHoMmtdMvc"
      },
      "source": [
        "L'analyse de la matrice de corrélation, ainsi que les résultats obtenus par le fonction describe(), nous ont permis d'identifier facilement les paramètres les plus utiles pour regrouper les apprenants ayant les mêmes prérequis et niveaux d'apprentissage, à savoir : communication, mathématiques, informatique, pré-test, test formatif et test sommatif."
      ]
    },
    {
      "cell_type": "markdown",
      "metadata": {
        "id": "fp8g-jJPd2lV"
      },
      "source": [
        "\n",
        "## **Classification et regroupement des apprenants**\n",
        "\n",
        "Après avoir identifié les paramètres dans l'étape précédente, One passe à la de classification et du regroupement des apprenants. Il existe plusieurs façons de procéder, mais dans notre cas, nous avons choisi d'utiliser les k-means pour la classification et la régression pour la prédiction. Suite à l'étude et à l'analyse de l'ensemble des données, il est possible de diviser les apprenants en trois groupes :\n",
        "\n",
        "- Groupe A (Les plus avancés) : ce sont les étudiants qui ont une excellente formation en mathématiques, en informatique et en communication qui leur a permis de comprendre facilement les chapitres et de réussir les tests formatifs à la fin de chaque chapitre. Ce groupe d'apprenants, a montré son sérieux et sa forte volonté et son intérêt à suivre le MOOC jusqu'au bout, c'est ce que l'équipe pédagogique a remarqué car ils ont montré leurs engagements, notamment lors de la réalisation des activités demandées par leur enseignant et le temps, qu'ils ont passé connectés sur la plateforme en suivant les cours et les vidéos ainsi que leurs interactions sur le forum.\n",
        "\n",
        "\n",
        "- Groupe B (apprenants moyens) : déjà ceux qui ont un niveau moyen en mathématiques, en informatique et en communication ont eu des notes moyennes avec l'évolution de certains éléments.\n",
        "\n",
        "\n",
        "- Groupe C (apprenants en difficulté) : ce sont ceux qui ont des lacunes en mathématiques, en informatique et en communication. Ceux qui sont proches de la moyenne ont pu progresser et valider certains tests formatifs grâce, également, à la remédiation proposée à la fin de chaque test formatif."
      ]
    },
    {
      "cell_type": "code",
      "execution_count": null,
      "metadata": {
        "colab": {
          "base_uri": "https://localhost:8080/"
        },
        "id": "ZcNZ90LshAf_",
        "outputId": "586818c1-03b6-47a6-e4c9-16ecfbe72628"
      },
      "outputs": [
        {
          "data": {
            "text/plain": [
              "Nom et prénom             0\n",
              "Note de communication     0\n",
              "Note des mathématiques    0\n",
              "Note d'informatique       0\n",
              "Note du prétest           0\n",
              "test formatif 1           2\n",
              "test formatif 2           0\n",
              "test formatif 3           0\n",
              "test sommatif             0\n",
              "dtype: int64"
            ]
          },
          "execution_count": 92,
          "metadata": {},
          "output_type": "execute_result"
        }
      ],
      "source": [
        "# le nombre de valeurs nulles de notre jeu de données.\n",
        "df.isnull().sum()"
      ]
    },
    {
      "cell_type": "code",
      "execution_count": null,
      "metadata": {
        "id": "06kHZnMvhath"
      },
      "outputs": [],
      "source": [
        "df['test formatif 1'].replace(np.NaN , np.mean(all(v != np.NaN for v in df['test formatif 1'].values)), inplace=True)"
      ]
    },
    {
      "cell_type": "code",
      "execution_count": null,
      "metadata": {
        "colab": {
          "base_uri": "https://localhost:8080/"
        },
        "id": "0G_uHlj2lg2F",
        "outputId": "4f39ccd2-e9d5-44ba-bcd5-e68fe3dd398c"
      },
      "outputs": [
        {
          "data": {
            "text/plain": [
              "Nom et prénom             0\n",
              "Note de communication     0\n",
              "Note des mathématiques    0\n",
              "Note d'informatique       0\n",
              "Note du prétest           0\n",
              "test formatif 1           0\n",
              "test formatif 2           0\n",
              "test formatif 3           0\n",
              "test sommatif             0\n",
              "dtype: int64"
            ]
          },
          "execution_count": 94,
          "metadata": {},
          "output_type": "execute_result"
        }
      ],
      "source": [
        "# le nombre de valeurs nulles de notre jeu de données.\n",
        "df.isnull().sum()"
      ]
    },
    {
      "cell_type": "markdown",
      "metadata": {
        "id": "KkgHkfU9w9ox"
      },
      "source": [
        "## **Construction du modèle KMeans**"
      ]
    },
    {
      "cell_type": "code",
      "execution_count": null,
      "metadata": {
        "colab": {
          "base_uri": "https://localhost:8080/"
        },
        "id": "FyZMGqfxebjd",
        "outputId": "03c1ebf8-1dbe-4160-d3b8-ea43b3b8d358"
      },
      "outputs": [
        {
          "data": {
            "text/plain": [
              "KMeans(n_clusters=3)"
            ]
          },
          "execution_count": 95,
          "metadata": {},
          "output_type": "execute_result"
        }
      ],
      "source": [
        "# Crétion du modèle avec trois groupes \n",
        "model = KMeans(n_clusters = 3)\n",
        "\n",
        "# Entrainement du modèle\n",
        "model.fit(df.iloc[ : , 1 : 8])"
      ]
    },
    {
      "cell_type": "code",
      "execution_count": null,
      "metadata": {
        "id": "d248VPLUm1L1"
      },
      "outputs": [],
      "source": [
        "# Prédictions\n",
        "y_predict = model.predict(df.iloc[ : , 1 : 8])"
      ]
    },
    {
      "cell_type": "code",
      "execution_count": null,
      "metadata": {
        "colab": {
          "base_uri": "https://localhost:8080/",
          "height": 282
        },
        "id": "9RDodNGtxXCv",
        "outputId": "b8d44c9b-d561-41db-dabc-58f459d94a17"
      },
      "outputs": [
        {
          "data": {
            "text/plain": [
              "<matplotlib.legend.Legend at 0x7fc3a8a30520>"
            ]
          },
          "execution_count": 97,
          "metadata": {},
          "output_type": "execute_result"
        },
        {
          "data": {
            "image/png": "[encoded data removed]",
            "text/plain": [
              "<Figure size 432x288 with 1 Axes>"
            ]
          },
          "metadata": {
            "needs_background": "light"
          },
          "output_type": "display_data"
        }
      ],
      "source": [
        "# Visualisation des clusters\n",
        "\n",
        "# Classe A \n",
        "plt.scatter(df.iloc[y_predict == 0, 1], df.iloc[y_predict == 0, 2], c = 'y', label=\"Class A\")\n",
        "\n",
        "# Classe B\n",
        "plt.scatter(df.iloc[y_predict == 1, 1], df.iloc[y_predict == 1, 2], c = 'm', label=\"Class B\")\n",
        "\n",
        "# Classe C\n",
        "plt.scatter(df.iloc[y_predict == 2, 1], df.iloc[y_predict == 2, 2], c = 'b', label=\"Class C\")\n",
        "\n",
        "plt.scatter(model.cluster_centers_[:,0], model.cluster_centers_[:,1], c = 'r', label=\"Centroids\")\n",
        "\n",
        "plt.legend()"
      ]
    },
    {
      "cell_type": "markdown",
      "metadata": {
        "id": "6HaILO6i1Kgr"
      },
      "source": [
        "La figure ci-dessus montre le résultat de la classification et du regroupement des apprenants en utilisant l'algorithme K-means, les objets sont affichés sous forme de diagrammes de dispersion, chaque cluster est présenté par une couleur et chaque classe d'individu par un point, et les centres des clusters sont présentés en rouge. Les individus ayant les mêmes caractéristiques et appartenant à l'un des clusters ont les mêmes couleurs. Selon la disposition des points dans les nuages, nous pouvons qualifier la qualité de la classification et du clustering que nous avons obtenu, puisque nous avons un regroupement de chaque classe dans un côté séparé de l'autre classe, alors nous pouvons dire que c'est une bonne classification et un bon clustering."
      ]
    }
  ],
  "metadata": {
    "colab": {
      "provenance": []
    },
    "kernelspec": {
      "display_name": "Python 3",
      "language": "python",
      "name": "python3"
    },
    "language_info": {
      "name": "python",
      "version": "3.10.9 (tags/v3.10.9:1dd9be6, Dec  6 2022, 20:01:21) [MSC v.1934 64 bit (AMD64)]"
    },
    "vscode": {
      "interpreter": {
        "hash": "72e3417bdb000a04e7eb91f48a2aabcb5e33c0ad23eaff9618eb7ea103037553"
      }
    }
  },
  "nbformat": 4,
  "nbformat_minor": 0
}
